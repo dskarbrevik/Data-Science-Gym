{
 "cells": [
  {
   "cell_type": "markdown",
   "metadata": {},
   "source": [
    "# This is Machine Learning\n",
    "\n",
    "I am starting this on 1/4/2018. My plan is to practice one machine learning algorithm or relevant technique a day for the foreseeable future. I just graduated from a master's program in data science, and am doing this to review/reinforce concepts I've learned and hopefully learn a few new things along the way. We'll see how this goes...\n",
    "\n",
    "**[update 1/5/2018]**\n",
    "Structured the notebook to have three key sections: \"Core Concepts\", \"Practice Datasets\", and \"ML Algorithms\". The core concepts section will be a high level overview of keywords and ideas that are used regularly in ML work. The \"Practice Datasets\" section will introduce the datasets that will be used for evaluation in \"ML Algorithms\" and it will be a useful place to practice performing EDA. The final \"ML Algorithms\" sections will hopefully be the meat of the notebook where each subsection will be a unique ML algorithm that is explored in some depth.\n",
    "\n",
    "**[update 1/25/2018]**\n",
    "Decided to restructure this notebook to revolve around the data. I'm going to make each section be a single dataset that gets attacked with the following workflow: background info -> EDA -> models -> visualizations/resulting remarks."
   ]
  },
  {
   "cell_type": "markdown",
   "metadata": {},
   "source": [
    "***"
   ]
  },
  {
   "cell_type": "markdown",
   "metadata": {},
   "source": [
    "<a id=\"toc\"></a>\n",
    "\n",
    "## Table of Contents\n",
    "<ul>\n",
    "\n",
    "    <li><a href=\"#section1\">LEVEL 1: What flower is this?</a></li>\n",
    "        <ol>\n",
    "            <li><a href=\"#section1_1\">Introduction to the Data</a></li>\n",
    "            <li><a href=\"#section1_2\">Exploratory Data Analysis</a></li>     \n",
    "            <li><a href=\"#section1_3\">Modeling</a></li> \n",
    "            <li><a href=\"#section1_4\">Results</a></li>             \n",
    "        </ol>\n",
    "    <br>\n",
    "    <li><a href=\"#section1\">LEVEL 2: What number is this?</a></li>\n",
    "        <ol>\n",
    "            <li><a href=\"#section1_1\">Introduction to the Data</a></li>\n",
    "            <li><a href=\"#section1_2\">Exploratory Data Analysis</a></li>     \n",
    "            <li><a href=\"#section1_3\">Modeling</a></li> \n",
    "            <li><a href=\"#section1_4\">Results</a></li>             \n",
    "        </ol>\n",
    "    <br>        \n",
    "    <li><a href=\"#section1\">LEVEL 3: ?</a></li>\n",
    "        <ol>\n",
    "            <li><a href=\"#section1_1\">Introduction to the Data</a></li>\n",
    "            <li><a href=\"#section1_2\">Exploratory Data Analysis</a></li>     \n",
    "            <li><a href=\"#section1_3\">Modeling</a></li> \n",
    "            <li><a href=\"#section1_4\">Results</a></li>             \n",
    "        </ol>\n",
    "\n",
    "</ul>"
   ]
  },
  {
   "cell_type": "markdown",
   "metadata": {},
   "source": [
    "***"
   ]
  },
  {
   "cell_type": "markdown",
   "metadata": {},
   "source": [
    "Before we get into any code, we'll load some base libraries that we'll make regular use of. Other libraries will be imported as needed in the code below:\n",
    "    "
   ]
  },
  {
   "cell_type": "code",
   "execution_count": 2,
   "metadata": {},
   "outputs": [],
   "source": [
    "%matplotlib inline\n",
    "import numpy as np\n",
    "import pandas as pd\n",
    "import matplotlib.pyplot as plt\n",
    "from sklearn import datasets\n",
    "from inspect import getmembers\n",
    "from collections import OrderedDict, Counter\n",
    "import numbers"
   ]
  },
  {
   "cell_type": "markdown",
   "metadata": {},
   "source": [
    "***"
   ]
  },
  {
   "cell_type": "markdown",
   "metadata": {},
   "source": [
    "<div align=\"right\">\n",
    "    <a href=\"#toc\">back to top</a>\n",
    "</div>\n",
    "<a id='section1'></a>\n",
    "\n",
    "# Level 1: What flower is this?\n",
    "\n",
    "**Dataset:** Iris dataset\n",
    "\n",
    "**Problem type:** classification\n",
    "\n",
    "**Difficulty:** very easy\n",
    "\n"
   ]
  },
  {
   "cell_type": "markdown",
   "metadata": {},
   "source": [
    "<a id='section2_1'></a>\n",
    "\n",
    "## Introduction to the Dataset\n",
    "\n",
    "This is a small, 150 observations, classification type dataset where each row corresponds to one of three types of flowers. There are just four features in each row to allow for the classification of flower type (sepal length, sepal width, pedal width, pedal length). More information can be found <a href=\"https://en.wikipedia.org/wiki/Iris_flower_data_set\">here</a>."
   ]
  },
  {
   "cell_type": "code",
   "execution_count": 3,
   "metadata": {},
   "outputs": [],
   "source": [
    "iris = datasets.load_iris() # data imported from sklearn"
   ]
  },
  {
   "cell_type": "markdown",
   "metadata": {},
   "source": [
    "#### EDA on the dataset\n",
    "\n",
    "Let's turn this into a Pandas DataFrame for a little EDA fun. It's probably a little overkill to do this on such a small dataset. We could very well do some basic analysis on it as is, but this will be a nice exercise anyway..."
   ]
  },
  {
   "cell_type": "code",
   "execution_count": 4,
   "metadata": {},
   "outputs": [
    {
     "name": "stdout",
     "output_type": "stream",
     "text": [
      "Flower Type: 150\n",
      "Sepal Length: 150\n",
      "Sepal Width: 150\n",
      "Petal Length: 150\n",
      "Petal Width: 150\n"
     ]
    }
   ],
   "source": [
    "from collections import OrderedDict\n",
    "\n",
    "# convert numerical categories to their actual flower names\n",
    "flower_type = []\n",
    "for i in iris.target:\n",
    "        flower_type.append(iris.target_names[i])        \n",
    "\n",
    "# create an ordered dictionary with all our features\n",
    "iris_dict = OrderedDict([('Flower Type', flower_type), ('Sepal Length', iris.data[:, 0]), ('Sepal Width', iris.data[:, 1]), \n",
    "                         ('Petal Length', iris.data[:, 2]), ('Petal Width', iris.data[:, 3])])\n",
    "\n",
    "# quickly verify that all arrays are the same length\n",
    "for key in iris_dict.keys():\n",
    "    print(\"{0}: {1}\".format(key, len(iris_dict[key])))\n",
    "\n",
    "# make Pandas DataFrame from ordered dictionary\n",
    "iris_df = pd.DataFrame.from_dict(iris_dict)"
   ]
  },
  {
   "cell_type": "code",
   "execution_count": 5,
   "metadata": {},
   "outputs": [
    {
     "name": "stdout",
     "output_type": "stream",
     "text": [
      "This dataset has 150 observations (rows) and 5 features (columns).\n"
     ]
    }
   ],
   "source": [
    "print(\"This dataset has {} observations (rows) and {} features (columns).\".format(iris_df.shape[0], iris_df.shape[1]))"
   ]
  },
  {
   "cell_type": "code",
   "execution_count": 6,
   "metadata": {},
   "outputs": [
    {
     "data": {
      "text/html": [
       "<div>\n",
       "<table border=\"1\" class=\"dataframe\">\n",
       "  <thead>\n",
       "    <tr style=\"text-align: right;\">\n",
       "      <th></th>\n",
       "      <th>Flower Type</th>\n",
       "      <th>Sepal Length</th>\n",
       "      <th>Sepal Width</th>\n",
       "      <th>Petal Length</th>\n",
       "      <th>Petal Width</th>\n",
       "    </tr>\n",
       "  </thead>\n",
       "  <tbody>\n",
       "    <tr>\n",
       "      <th>0</th>\n",
       "      <td>setosa</td>\n",
       "      <td>5.1</td>\n",
       "      <td>3.5</td>\n",
       "      <td>1.4</td>\n",
       "      <td>0.2</td>\n",
       "    </tr>\n",
       "    <tr>\n",
       "      <th>1</th>\n",
       "      <td>setosa</td>\n",
       "      <td>4.9</td>\n",
       "      <td>3.0</td>\n",
       "      <td>1.4</td>\n",
       "      <td>0.2</td>\n",
       "    </tr>\n",
       "    <tr>\n",
       "      <th>2</th>\n",
       "      <td>setosa</td>\n",
       "      <td>4.7</td>\n",
       "      <td>3.2</td>\n",
       "      <td>1.3</td>\n",
       "      <td>0.2</td>\n",
       "    </tr>\n",
       "    <tr>\n",
       "      <th>3</th>\n",
       "      <td>setosa</td>\n",
       "      <td>4.6</td>\n",
       "      <td>3.1</td>\n",
       "      <td>1.5</td>\n",
       "      <td>0.2</td>\n",
       "    </tr>\n",
       "    <tr>\n",
       "      <th>4</th>\n",
       "      <td>setosa</td>\n",
       "      <td>5.0</td>\n",
       "      <td>3.6</td>\n",
       "      <td>1.4</td>\n",
       "      <td>0.2</td>\n",
       "    </tr>\n",
       "  </tbody>\n",
       "</table>\n",
       "</div>"
      ],
      "text/plain": [
       "  Flower Type  Sepal Length  Sepal Width  Petal Length  Petal Width\n",
       "0      setosa           5.1          3.5           1.4          0.2\n",
       "1      setosa           4.9          3.0           1.4          0.2\n",
       "2      setosa           4.7          3.2           1.3          0.2\n",
       "3      setosa           4.6          3.1           1.5          0.2\n",
       "4      setosa           5.0          3.6           1.4          0.2"
      ]
     },
     "execution_count": 6,
     "metadata": {},
     "output_type": "execute_result"
    }
   ],
   "source": [
    "iris_df.head()"
   ]
  },
  {
   "cell_type": "code",
   "execution_count": 7,
   "metadata": {},
   "outputs": [
    {
     "data": {
      "text/html": [
       "<div>\n",
       "<table border=\"1\" class=\"dataframe\">\n",
       "  <thead>\n",
       "    <tr style=\"text-align: right;\">\n",
       "      <th></th>\n",
       "      <th>Sepal Length</th>\n",
       "      <th>Sepal Width</th>\n",
       "      <th>Petal Length</th>\n",
       "      <th>Petal Width</th>\n",
       "    </tr>\n",
       "  </thead>\n",
       "  <tbody>\n",
       "    <tr>\n",
       "      <th>count</th>\n",
       "      <td>150.000000</td>\n",
       "      <td>150.000000</td>\n",
       "      <td>150.000000</td>\n",
       "      <td>150.000000</td>\n",
       "    </tr>\n",
       "    <tr>\n",
       "      <th>mean</th>\n",
       "      <td>5.843333</td>\n",
       "      <td>3.054000</td>\n",
       "      <td>3.758667</td>\n",
       "      <td>1.198667</td>\n",
       "    </tr>\n",
       "    <tr>\n",
       "      <th>std</th>\n",
       "      <td>0.828066</td>\n",
       "      <td>0.433594</td>\n",
       "      <td>1.764420</td>\n",
       "      <td>0.763161</td>\n",
       "    </tr>\n",
       "    <tr>\n",
       "      <th>min</th>\n",
       "      <td>4.300000</td>\n",
       "      <td>2.000000</td>\n",
       "      <td>1.000000</td>\n",
       "      <td>0.100000</td>\n",
       "    </tr>\n",
       "    <tr>\n",
       "      <th>25%</th>\n",
       "      <td>5.100000</td>\n",
       "      <td>2.800000</td>\n",
       "      <td>1.600000</td>\n",
       "      <td>0.300000</td>\n",
       "    </tr>\n",
       "    <tr>\n",
       "      <th>50%</th>\n",
       "      <td>5.800000</td>\n",
       "      <td>3.000000</td>\n",
       "      <td>4.350000</td>\n",
       "      <td>1.300000</td>\n",
       "    </tr>\n",
       "    <tr>\n",
       "      <th>75%</th>\n",
       "      <td>6.400000</td>\n",
       "      <td>3.300000</td>\n",
       "      <td>5.100000</td>\n",
       "      <td>1.800000</td>\n",
       "    </tr>\n",
       "    <tr>\n",
       "      <th>max</th>\n",
       "      <td>7.900000</td>\n",
       "      <td>4.400000</td>\n",
       "      <td>6.900000</td>\n",
       "      <td>2.500000</td>\n",
       "    </tr>\n",
       "  </tbody>\n",
       "</table>\n",
       "</div>"
      ],
      "text/plain": [
       "       Sepal Length  Sepal Width  Petal Length  Petal Width\n",
       "count    150.000000   150.000000    150.000000   150.000000\n",
       "mean       5.843333     3.054000      3.758667     1.198667\n",
       "std        0.828066     0.433594      1.764420     0.763161\n",
       "min        4.300000     2.000000      1.000000     0.100000\n",
       "25%        5.100000     2.800000      1.600000     0.300000\n",
       "50%        5.800000     3.000000      4.350000     1.300000\n",
       "75%        6.400000     3.300000      5.100000     1.800000\n",
       "max        7.900000     4.400000      6.900000     2.500000"
      ]
     },
     "execution_count": 7,
     "metadata": {},
     "output_type": "execute_result"
    }
   ],
   "source": [
    "iris_df.describe()"
   ]
  },
  {
   "cell_type": "markdown",
   "metadata": {},
   "source": [
    "So we see there are just a few features and not many observations in this dataset. Note the first few lines are all \"setosa\", this is because the dataset is ordered. The first 50 rows are Setosa, the next 50 are versicolor, and the last 50 rows are virginica. Also, we can note from the basic statistics of the features that the pedal length seems to have a particularly high standard deviation and thus may be the most valuable feature in differentiating the different flowers (just a hunch, not a for sure)."
   ]
  },
  {
   "cell_type": "code",
   "execution_count": 13,
   "metadata": {
    "scrolled": false
   },
   "outputs": [
    {
     "data": {
      "image/png": "[encoded data removed]",
      "text/plain": [
       "<matplotlib.figure.Figure at 0x29782a53fd0>"
      ]
     },
     "metadata": {},
     "output_type": "display_data"
    }
   ],
   "source": [
    "from matplotlib.colors import ListedColormap\n",
    "\n",
    "n_neighbors = 1\n",
    "\n",
    "# import some data to play with\n",
    "iris = datasets.load_iris()\n",
    "\n",
    "# we only take the first two features. We could avoid this ugly\n",
    "# slicing by using a two-dim dataset\n",
    "X = iris.data[:, :2]\n",
    "y = iris.target\n",
    "\n",
    "h = .02  # step size in the mesh\n",
    "\n",
    "# Create color maps\n",
    "cmap_light = ListedColormap(['#FFAAAA', '#AAFFAA', '#AAAAFF'])\n",
    "cmap_bold = ListedColormap(['#FF0000', '#00FF00', '#0000FF'])\n",
    "\n",
    "\n",
    "# we create an instance of Neighbours Classifier and fit the data.\n",
    "clf = KNeighborsClassifier(n_neighbors)\n",
    "clf.fit(X, y)\n",
    "\n",
    "# Plot the decision boundary. For that, we will assign a color to each\n",
    "# point in the mesh [x_min, x_max]x[y_min, y_max].\n",
    "x_min, x_max = X[:, 0].min() - 1, X[:, 0].max() + 1\n",
    "y_min, y_max = X[:, 1].min() - 1, X[:, 1].max() + 1\n",
    "xx, yy = np.meshgrid(np.arange(x_min, x_max, h),\n",
    "                     np.arange(y_min, y_max, h))\n",
    "Z = clf.predict(np.c_[xx.ravel(), yy.ravel()])\n",
    "\n",
    "# Put the result into a color plot\n",
    "Z = Z.reshape(xx.shape)\n",
    "plt.figure(figsize=(8,8))\n",
    "plt.pcolormesh(xx, yy, Z, cmap=cmap_light)\n",
    "\n",
    "# Plot also the training points\n",
    "plt.scatter(X[:, 0], X[:, 1], c=y, cmap=cmap_bold,\n",
    "            edgecolor='k', s=20)\n",
    "plt.xlim(xx.min(), xx.max())\n",
    "plt.ylim(yy.min(), yy.max())\n",
    "plt.title(\"k-NN Classification of Iris Dataset (k = %i)\"\n",
    "          % (n_neighbors))\n",
    "plt.show()\n"
   ]
  },
  {
   "cell_type": "markdown",
   "metadata": {},
   "source": [
    "***"
   ]
  },
  {
   "cell_type": "markdown",
   "metadata": {},
   "source": [
    "<div align=\"right\">\n",
    "    <a href=\"#toc\">back to top</a>\n",
    "</div>\n",
    "<a id='section3'></a>\n",
    "\n",
    "# Machine Learning Algorithms"
   ]
  },
  {
   "cell_type": "markdown",
   "metadata": {},
   "source": [
    "<a id='section3_1'></a>\n",
    "\n",
    "## k-Nearest Neighbor (k-NN)\n",
    "\n",
    "k-NN is the idea that you can predict the correct label for a data point based on the labels of it's closest neighbors. If you wanted to know how much it would cost to ship a package from location X to Florida and you only knew the cost of shipping from X to California and X to Georgia... probably assume that since Georgia is so close to Florida it would cost something simliar to that shipping price and ignore the cost of shipping to California. This is k-NN, where k is the number of neighbors to consider when making a decision. Consider our shipping situation again, but this time imagine we have way more data. We know the price to ship from location X to any city in the U.S. except Tampa Bay, Florida. If we use k-NN with k = 1, we would look for the city closest to Tampa Bay and decide that whatever the shipping rate is there, it will be the same for Tampa Bay. However, if we want k to equal 3, we would look at the three closest cities to Tampa Bay and choose the shipping cost most common to them. For instance if two of the three cities cost \\$5 to ship and for a third city the cost is \\$3, we will choose the majority cost of \\$5 as the shipping fee to Tampa Bay. \n",
    "\n",
    "KNN is a **non-parametric** and **lazy** algorithm. These ideas are somewhat related in that you may expect a \"lazy\" algorithm would be non-parametric. \n",
    "\n",
    "The algorithm is non-parametric because the hyperparameter K, changes the number of parameters the model will use. The number of parameters must be fixed in the model for it to be parametric. \n",
    "\n",
    "KNN algorithm is \"lazy\" because there is no actual training phase. Most other algorithms take a set of training data, learn some sort of formula for how best to classify, regress, etc. (optimize whatever objective function) the data. Then you come along with a new data point for the trained algorithm to make a prediction on. When it makes the prediction, it doesn't require the training data any longer, it has already _learned_ what it will from the training data. However, with KNN there is no actual training phase, the \"training\" happens at **inference**; KNN maps the new data point of interest to where it should best fit amongst the training data you gave it. Effectively instead of doing any \"training\" or \"learning\" it just memorized the training data and maps new values inside the training data. Ultimately the takeaway is that the algorithm doesn't have to do anything until you want a prediction, so we call it lazy.\n"
   ]
  },
  {
   "cell_type": "markdown",
   "metadata": {},
   "source": [
    "#### Getting our data ready\n",
    "\n",
    "We'll use the Iris dataset to evaluate our models. Because KNN is a sort of mapping algorithm, it works well for data that has good spatial separation and a low number of feautres/dimensions.\n",
    "\n",
    "Note that because this algorithm is lazy, we don't actually need to split train/test data. We can use the full dataset minus the datapoint of interest as the \"training data\", however in the spirit of machine learning workflow we will create a train/test anyway."
   ]
  },
  {
   "cell_type": "code",
   "execution_count": 8,
   "metadata": {},
   "outputs": [],
   "source": [
    "from sklearn.model_selection import train_test_split\n",
    "\n",
    "data = iris.data[:,:2]\n",
    "labels = flower_type\n",
    "train_data, test_data, train_labels, test_labels = train_test_split(data, labels, test_size=.20, random_state=25)"
   ]
  },
  {
   "cell_type": "markdown",
   "metadata": {},
   "source": [
    "#### Homegrown solution\n",
    "\n",
    "This algorithm expects coordinate like input features (two numbers) and an associated label (any text/number/whatever). So something like [(-3.4, 5), \"blue\"].\n",
    "\n",
    "You can technically use any number of features with KNN, but the \"curse of dimensionality\" sets in quickly. More on this later."
   ]
  },
  {
   "cell_type": "code",
   "execution_count": 9,
   "metadata": {},
   "outputs": [],
   "source": [
    "class HG_KNN_Classifier():\n",
    "\n",
    "    def __init__(self):\n",
    "        pass\n",
    "\n",
    "    def euclidean_distance(self, x, y):\n",
    "        if len(x) != len(y):\n",
    "            raise Exception(\"Values in dataset don't have the same dimensions.\")\n",
    "        distance = 0.0\n",
    "        for i in range(len(x)):\n",
    "            distance += (x[i] - y[i])**2\n",
    "        distance = np.sqrt(distance)\n",
    "        return distance\n",
    "\n",
    "    def manhattan_distance(self, x, y):\n",
    "        if len(x) != len(y):\n",
    "            raise Exception(\"Values in dataset don't have the same dimensions.\")\n",
    "        distance = 0\n",
    "        for i in range(len(x)):\n",
    "            distance += np.abs(x[i] - y[i])\n",
    "        return distance    \n",
    "\n",
    "    def predict(self, k, labeled_train_points, test_points, distance=\"euclidean\"):\n",
    "        \n",
    "        predictions = []\n",
    "        \n",
    "        # if there's only one data point to make a prediction on\n",
    "        if (isinstance(test_points[0], numbers.Number)):\n",
    "            test_points = [test_points] \n",
    "            \n",
    "        for i in range(len(test_points)):\n",
    "            if distance == \"euclidean\":\n",
    "                by_distance = sorted(labeled_train_points, key=lambda data: self.euclidean_distance(data[0], test_points[i]))\n",
    "            elif distance == \"manhattan\":\n",
    "                by_distance = sorted(labeled_train_points, key=lambda data: self.manhattan_distance(data[0], test_points[i]))\n",
    "                \n",
    "            k_nearest_labels = [label for _, label in by_distance[:k]] \n",
    "            \n",
    "            while(True):\n",
    "                vote_counts = Counter(k_nearest_labels)\n",
    "                winner, winner_count = vote_counts.most_common(1)[0]\n",
    "\n",
    "                num_winners = len([count for count in vote_counts.values() if count == winner_count])\n",
    "                if num_winners == 1:\n",
    "                    predictions.append(winner)\n",
    "                    break\n",
    "                else:\n",
    "                    k_nearest_labels = k_nearest_labels[:-1]\n",
    "\n",
    "        return predictions"
   ]
  },
  {
   "cell_type": "code",
   "execution_count": 10,
   "metadata": {},
   "outputs": [],
   "source": [
    "labeled_train_data = list(zip(train_data, train_labels))\n",
    "k_val = 2\n",
    "knn_model = HG_KNN_Classifier()\n",
    "hg_predictions = knn_model.predict(k=k_val, labeled_train_points=labeled_train_data, test_points=test_data, distance=\"manhattan\")"
   ]
  },
  {
   "cell_type": "code",
   "execution_count": 11,
   "metadata": {},
   "outputs": [
    {
     "name": "stdout",
     "output_type": "stream",
     "text": [
      "Accuracy of homegrown k-NN model with k = 2: 66.67%\n"
     ]
    }
   ],
   "source": [
    "acc_score = 0\n",
    "for i in range(len(hg_predictions)):\n",
    "    if hg_predictions[i] == test_labels[i]:\n",
    "        acc_score += 1\n",
    "acc_score /= len(hg_predictions)\n",
    "\n",
    "print(\"Accuracy of homegrown k-NN model with k = {}: {:.2f}%\".format( k_val, (acc_score*100)))\n"
   ]
  },
  {
   "cell_type": "markdown",
   "metadata": {},
   "source": [
    "That's it. Very simple implemenation."
   ]
  },
  {
   "cell_type": "markdown",
   "metadata": {},
   "source": [
    "#### Scikit-Learn solution\n",
    "\n",
    "Using a standard scikit-learn implementation to show how easy it is and to benchmark against our homegrown solution. Note how simple sklearn is to implement..."
   ]
  },
  {
   "cell_type": "code",
   "execution_count": 12,
   "metadata": {},
   "outputs": [
    {
     "name": "stdout",
     "output_type": "stream",
     "text": [
      "Accuracy of k-NN with k = 2 : 76.67%\n"
     ]
    }
   ],
   "source": [
    "from sklearn.neighbors import KNeighborsClassifier\n",
    "from sklearn.metrics import accuracy_score\n",
    "\n",
    "n_neighbors = 2\n",
    "\n",
    "knn = KNeighborsClassifier(n_neighbors)\n",
    "knn.fit(train_data, train_labels)\n",
    "preds = knn.predict(test_data)\n",
    "\n",
    "accuracy = accuracy_score(test_labels, preds)\n",
    "print(\"Accuracy of k-NN with k = {} : {:.2f}%\".format(n_neighbors, (accuracy*100)))"
   ]
  },
  {
   "cell_type": "markdown",
   "metadata": {},
   "source": [
    "#### Visualizing k-NN"
   ]
  },
  {
   "cell_type": "markdown",
   "metadata": {},
   "source": [
    "What you're looking at:\n",
    "\n",
    "The three regions of background color represent the decision boundaries of our k-NN model while the dots represent the actual data we provided to make those boundaries. \n",
    "\n",
    "Notice how some of the dots are not in the right k-NN decision boundary? Why do you think that is (hint: consider how the decision boundary would be different for k=1 vs. k=2)."
   ]
  },
  {
   "cell_type": "code",
   "execution_count": null,
   "metadata": {
    "collapsed": true
   },
   "outputs": [],
   "source": []
  },
  {
   "cell_type": "code",
   "execution_count": null,
   "metadata": {
    "collapsed": true
   },
   "outputs": [],
   "source": []
  },
  {
   "cell_type": "markdown",
   "metadata": {},
   "source": [
    "<a id='section3_2'></a>\n",
    "\n",
    "## \n",
    "\n",
    "This algorithm is blah blah blah"
   ]
  },
  {
   "cell_type": "markdown",
   "metadata": {},
   "source": [
    "#### Prep the data:"
   ]
  },
  {
   "cell_type": "code",
   "execution_count": null,
   "metadata": {
    "collapsed": true
   },
   "outputs": [],
   "source": []
  },
  {
   "cell_type": "markdown",
   "metadata": {},
   "source": [
    "#### Homegrown solution"
   ]
  },
  {
   "cell_type": "code",
   "execution_count": null,
   "metadata": {
    "collapsed": true
   },
   "outputs": [],
   "source": []
  },
  {
   "cell_type": "markdown",
   "metadata": {},
   "source": [
    "#### Scikit-learn solution"
   ]
  },
  {
   "cell_type": "code",
   "execution_count": null,
   "metadata": {
    "collapsed": true
   },
   "outputs": [],
   "source": []
  },
  {
   "cell_type": "markdown",
   "metadata": {},
   "source": [
    "#### Points of focus:\n",
    "\n",
    "Use cases:\n",
    "\n",
    "Pros:\n",
    "\n",
    "Cons:"
   ]
  },
  {
   "cell_type": "markdown",
   "metadata": {},
   "source": [
    "***"
   ]
  },
  {
   "cell_type": "markdown",
   "metadata": {},
   "source": [
    "** classification : **"
   ]
  },
  {
   "cell_type": "markdown",
   "metadata": {},
   "source": [
    "** features/observations : ** Typically refers to the rows/columns (respectively) of a table/dataset. For example, imagine I have 50 patients and I give them Drug A (some drug I think will lowers body fat) and then I measure their weight before taking the drug and then again after a month. The resulting dataset will have 50 observations (one for each patient) with 2 features (a before weight and an after weight). "
   ]
  },
  {
   "cell_type": "markdown",
   "metadata": {},
   "source": [
    "** generative model : **"
   ]
  },
  {
   "cell_type": "markdown",
   "metadata": {},
   "source": [
    "** inference time : **"
   ]
  },
  {
   "cell_type": "markdown",
   "metadata": {},
   "source": []
  },
  {
   "cell_type": "markdown",
   "metadata": {},
   "source": [
    "** non-parametric model : ** Not to be confused with a \"non-parametric statistic\", when used in the context of a model, non-parametric refers to a model that does not have a fixed number of parameters. In the case of KNN, the value of K determines how many parameters the model will have but this can be changed at inference time, not fixed based on the model so we call this non-parametric. Note that this does not mean there are _not_ parameters, just that they are not fixed. "
   ]
  },
  {
   "cell_type": "markdown",
   "metadata": {},
   "source": [
    "** observation/features : ** Typically refers to the rows/columns (respectively) of a table/dataset. For example, imagine I have 50 patients and I give them Drug A (some drug I think will lowers body fat) and then I measure their weight before taking the drug and then again after a month. The resulting dataset will have 50 observations (one for each patient) with 2 features (a before weight and an after weight). "
   ]
  },
  {
   "cell_type": "markdown",
   "metadata": {},
   "source": [
    "** training time : **"
   ]
  }
 ],
 "metadata": {
  "anaconda-cloud": {},
  "kernelspec": {
   "display_name": "Python 3",
   "language": "python",
   "name": "python3"
  },
  "language_info": {
   "codemirror_mode": {
    "name": "ipython",
    "version": 3
   },
   "file_extension": ".py",
   "mimetype": "text/x-python",
   "name": "python",
   "nbconvert_exporter": "python",
   "pygments_lexer": "ipython3",
   "version": "3.6.3"
  }
 },
 "nbformat": 4,
 "nbformat_minor": 2
}
