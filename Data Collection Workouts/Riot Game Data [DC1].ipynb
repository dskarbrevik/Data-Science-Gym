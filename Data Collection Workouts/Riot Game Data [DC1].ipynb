{
 "cells": [
  {
   "cell_type": "markdown",
   "metadata": {},
   "source": [
    "# Welcome to the Data Science Gym!\n",
    "\n",
    "Sharpen your data science skills by just *doing* data science.\n",
    "\n",
    "<br>\n",
    "\n",
    "### Workout Overview\n",
    "\n",
    "**ID:** <a href=\"https://github.com/dskarbrevik/Data-Science-Gym\">DSG2DC1</a>\n",
    "\n",
    "**Type:** Data Collection\n",
    "\n",
    "**Main goal:** Collect 10,000 matches of game data from Riot's League of Legends computer game and make 1 interesting finding about the collected data.\n",
    "\n",
    "**Data theme:** Game data\n",
    "\n",
    "**Data types:** numerical and categorical\n",
    "\n",
    "**Data size:** Medium (~20GB)\n",
    "\n",
    "**Special System requirements:** None \n",
    "\n",
    "**Difficulty:** &#11088;\n",
    "\n",
    "[Note: If this workout doesn't seem like a good fit for you at the moment, the <a href=\"https://github.com/dskarbrevik/Data-Science-Gym\">Data Science Gym</a> has other workouts that may be a better fit.]\n",
    "\n",
    "<br>\n",
    "<hr style=\"background-color: black; padding: 1px;\">\n",
    "<br>\n",
    "\n",
    "## SIGN-IN TO THE GYM!\n",
    "\n",
    "**Username:** \n",
    "\n",
    "**Date:**\n",
    "\n",
    "**Favorite video game:** \n",
    "\n",
    "<br>\n",
    "<hr style=\"background-color: black; padding: 1px;\">\n",
    "<br>\n",
    "\n",
    "### BASIC GYM RULES (everything you need to know)\n",
    "\n",
    "**1)** You have a maximum of **3 hours to complete a workout** in this gym.\n",
    "\n",
    "**2)** Start your timer immediately after reading these rules.\n",
    "\n",
    "**3)** You don't have to use all 3 hours, but you should spend **at least 1 full hour** in this gym or else your Data Science muscles might not get much bigger :(\n",
    "\n",
    "**4)** As long as you are the one typing into this notebook, you may use any resource you like (Python libraries, StackOverflow, phone a friend, etc.). \n",
    "\n",
    "**5)** If you copy any code directly from another source (e.g. StackOverflow) please put the link in the \"Resources\" section at the bottom of this notebook.\n",
    "\n",
    "<br>\n",
    "<hr style=\"background-color: black; padding: 1px;\">\n",
    "<br>\n",
    "\n",
    "## READY?... OK, start your timer and have fun!\n",
    "\n",
    "<br>\n",
    "***\n",
    "<br>"
   ]
  },
  {
   "cell_type": "markdown",
   "metadata": {},
   "source": [
    "<a id=\"toc\"></a>\n",
    "\n",
    "## Today's Workout Routine\n",
    "\n",
    "<br>\n",
    "\n",
    "<ol>\n",
    "    <li><a href=\"#section1\"><big>Introduction</big></a> [just reading here]</li>\n",
    "    <br>\n",
    "    <li><a href=\"#section2\"><big>Data Collection (and minimal cleaning)</big></a> [bulk of your time here]</li>\n",
    "    <br>\n",
    "    <li><a href=\"#section3\"><big>Data Analysis</big></a> [very minimal just to see what you collected]</li>\n",
    "    <br>\n",
    "    <li><a href=\"#section4\"><big>Conclusion</big></a> [short reflection on the workout]</li>\n",
    "    <br>\n",
    "    <li><a href=\"#section5\"><big>Resources</big></a> [a place for you to record useful links]</li>    \n",
    "</ol>\n",
    "\n",
    "<br>\n",
    "***\n",
    "<br>"
   ]
  },
  {
   "cell_type": "markdown",
   "metadata": {},
   "source": [
    "<div align=\"right\">\n",
    "    <a href=\"#toc\">back to top</a>\n",
    "</div>\n",
    "<a id='section1'></a>\n",
    "\n",
    "## 1) Introduction\n",
    "\n",
    "Riot is the maker of a game called <a href=\"https://en.wikipedia.org/wiki/League_of_Legends\">League of Legends</a>. It is an extremely successful (financially and user base size) as of this writing (2018). The \"Gameplay\" section of the linked Wikipedia article should have all the information (and more) that you might need to get familiar with the rules of the game and what matters. \n",
    "\n",
    "This workout is only 1-star difficulty because Riot has a simple and easy to use API for getting match information from their database. There are also a couple of Python wrappers for their API that are easy to use...\n",
    "\n",
    "Python API wrappers that you may be interested in:\n",
    "\n",
    "<a href=\"https://github.com/meraki-analytics/cassiopeia\">Cassiopeia</a>\n",
    "\n",
    "<a href=\"https://github.com/pseudonym117/Riot-Watcher\">Riot Watcher</a>\n",
    "\n",
    "You are not obligated to use either of the above libraries to collect your data, but they may be useful.\n",
    "\n",
    "<br>\n",
    "<hr style=\"background-color: grey; padding: .6px;\">\n",
    "<br>"
   ]
  },
  {
   "cell_type": "markdown",
   "metadata": {},
   "source": [
    "<div align=\"right\">\n",
    "    <a href=\"#toc\">back to top</a>\n",
    "</div>\n",
    "<a id='section2'></a>\n",
    "\n",
    "## 2) Data Collection (and minimal cleaning)\n",
    "\n",
    "The bulk of your time should be spent in this section. \n",
    "\n",
    "By the end of this section you should have data on 10,000 unique League of Legends matches in a form that it is at least somewhat readable by human eyes (it doesn't need to be beautiful; it just can't be 1s and 0s or one giant string)."
   ]
  },
  {
   "cell_type": "code",
   "execution_count": null,
   "metadata": {
    "collapsed": true
   },
   "outputs": [],
   "source": []
  },
  {
   "cell_type": "code",
   "execution_count": null,
   "metadata": {
    "collapsed": true
   },
   "outputs": [],
   "source": []
  },
  {
   "cell_type": "code",
   "execution_count": null,
   "metadata": {
    "collapsed": true
   },
   "outputs": [],
   "source": []
  },
  {
   "cell_type": "code",
   "execution_count": null,
   "metadata": {
    "collapsed": true
   },
   "outputs": [],
   "source": []
  },
  {
   "cell_type": "code",
   "execution_count": null,
   "metadata": {
    "collapsed": true
   },
   "outputs": [],
   "source": []
  },
  {
   "cell_type": "markdown",
   "metadata": {},
   "source": [
    "<br>\n",
    "<hr style=\"background-color: black; padding: 1px;\">\n",
    "<br>"
   ]
  },
  {
   "cell_type": "markdown",
   "metadata": {},
   "source": [
    "<div align=\"right\">\n",
    "    <a href=\"#toc\">back to top</a>\n",
    "</div>\n",
    "<a id='section3'></a>\n",
    "\n",
    "## 3) Data Analysis \n",
    "\n",
    "#### Goal:\n",
    "\n",
    "Now that you have your data in a somewhat readable shape, **make one semi-intelligent analytical remark about the data.** How intelligent is up to you, but something a little more clever than `print(\"The data has {} rows.\".format(df.shape[0]))`...\n",
    "\n",
    "Note: this is NOT where the bulk of your time should be spent (unless you really want it to be).\n",
    "\n"
   ]
  },
  {
   "cell_type": "code",
   "execution_count": null,
   "metadata": {
    "collapsed": true
   },
   "outputs": [],
   "source": []
  },
  {
   "cell_type": "code",
   "execution_count": null,
   "metadata": {
    "collapsed": true
   },
   "outputs": [],
   "source": []
  },
  {
   "cell_type": "markdown",
   "metadata": {},
   "source": [
    "<div align=\"right\">\n",
    "    <a href=\"#toc\">back to top</a>\n",
    "</div>\n",
    "<a id='section4'></a>\n",
    "\n",
    "## 4) Conclusion\n",
    "\n",
    "Any remarks you'd like to make about the challenges you face, what you learned, what makes the problem or data interesting or not interesting. Just a little space to reflect on the workout. Consider looking through the resources you used below in reflecting on what you learned!"
   ]
  },
  {
   "cell_type": "markdown",
   "metadata": {},
   "source": []
  },
  {
   "cell_type": "markdown",
   "metadata": {},
   "source": [
    "***"
   ]
  },
  {
   "cell_type": "markdown",
   "metadata": {},
   "source": [
    "<div align=\"right\">\n",
    "    <a href=\"#toc\">back to top</a>\n",
    "</div>\n",
    "<a id='section5'></a>\n",
    "\n",
    "## 5) Resources\n",
    "\n",
    "This is where you can list links to anything you needed to google that you found very helpful such as StackOverflow answers or parts of a Python library's documentation. It's a good way to reflect on what really challenged you and what you learned in this workout."
   ]
  },
  {
   "cell_type": "markdown",
   "metadata": {},
   "source": [
    "Example:\n",
    "<a href=\"https://docs.scipy.org/doc/numpy/reference/generated/numpy.random.rand.html\">How to make random numbers with numpy</a>"
   ]
  },
  {
   "cell_type": "markdown",
   "metadata": {},
   "source": [
    "***\n",
    "<br>\n",
    "<br>\n",
    "<br>"
   ]
  },
  {
   "cell_type": "markdown",
   "metadata": {},
   "source": [
    "## That's it! You've completed the workout. Congratulations!"
   ]
  }
 ],
 "metadata": {
  "kernelspec": {
   "display_name": "Python 3",
   "language": "python",
   "name": "python3"
  },
  "language_info": {
   "codemirror_mode": {
    "name": "ipython",
    "version": 3
   },
   "file_extension": ".py",
   "mimetype": "text/x-python",
   "name": "python",
   "nbconvert_exporter": "python",
   "pygments_lexer": "ipython3",
   "version": "3.6.3"
  }
 },
 "nbformat": 4,
 "nbformat_minor": 2
}
