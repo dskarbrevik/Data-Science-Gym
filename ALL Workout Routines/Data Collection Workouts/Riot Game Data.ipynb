{
 "cells": [
  {
   "cell_type": "markdown",
   "metadata": {},
   "source": [
    "# Welcome to the Data Science Gym!\n",
    "\n",
    "Sharpen your data science skills by just *doing* data science.\n",
    "\n",
    "<br>\n",
    "\n",
    "### Workout Overview\n",
    "\n",
    "**ID:** <a href=\"https://github.com/dskarbrevik/Data-Science-Gym\">DSG2DC1</a>\n",
    "\n",
    "**Type:** Data Collection\n",
    "\n",
    "**Challenge:** Collect game data from Riot's League of Legends computer game and make an interesting finding about the collected data.\n",
    "\n",
    "**Data theme:** Game data\n",
    "\n",
    "**Data types:** numerical, categorical\n",
    "\n",
    "**Data size:** Small\n",
    "\n",
    "**Special System requirements:** None \n",
    "\n",
    "**Difficulty:** &#11088;\n",
    "\n",
    "[Note: If this workout doesn't seem like a good fit for you at the moment, the <a href=\"https://github.com/dskarbrevik/Data-Science-Gym\">Data Science Gym</a> has other workouts that may be a better fit.]\n",
    "\n",
    "<br>\n",
    "<hr style=\"background-color: black; padding: 1px;\">\n",
    "<br>\n",
    "\n",
    "## SIGN-IN TO THE GYM!\n",
    "\n",
    "**Username:**\n",
    "\n",
    "**Date:** \n",
    "\n",
    "**Favorite video game:** \n",
    "\n",
    "<br>\n",
    "<hr style=\"background-color: black; padding: 1px;\">\n",
    "<br>\n",
    "\n",
    "### BASIC GYM RULES (everything you need to know)\n",
    "\n",
    "**1)** You have a maximum of **3 hours to complete \"the challenge\" of this workout** in this gym.\n",
    "\n",
    "**2)** Start your timer immediately after reading these rules.\n",
    "\n",
    "**3)** You don't have to use all 3 hours, but you should spend **at least 1 full hour** in this gym or else your Data Science muscles might not get much bigger :(\n",
    "\n",
    "**4)** As long as you are the one typing into this notebook, you may use any resource you like (Python libraries, StackOverflow, phone a friend, etc.). \n",
    "\n",
    "**5)** Anytime you Google something that helps you out, put a link to it in the Resources section at the bottom of this notebook (doesn't matter how simple it is).\n",
    "\n",
    "<br>\n",
    "\n",
    "**Note:** These five rules are the only firm instructions you will get. The workout is otherwise very open-ended on purpose.\n",
    "\n",
    "<br>"
   ]
  },
  {
   "cell_type": "markdown",
   "metadata": {},
   "source": [
    "<a id=\"toc\"></a>\n",
    "\n",
    "<br>\n",
    "\n",
    "## READY?... ok! Start the timer and continue to the Introduction section of the workout.\n",
    "\n",
    "[Execute the code block below for a convenient timer]"
   ]
  },
  {
   "cell_type": "code",
   "execution_count": 2,
   "metadata": {
    "collapsed": true
   },
   "outputs": [
    {
     "data": {
      "application/vnd.jupyter.widget-view+json": {
       "model_id": "07fe85983e924ee78628afd89f14a66c",
       "version_major": 2,
       "version_minor": 0
      },
      "text/plain": [
       "A Jupyter Widget"
      ]
     },
     "metadata": {},
     "output_type": "display_data"
    },
    {
     "data": {
      "application/vnd.jupyter.widget-view+json": {
       "model_id": "5a876485bb2145fb9b6ff091ec9dd027",
       "version_major": 2,
       "version_minor": 0
      },
      "text/plain": [
       "A Jupyter Widget"
      ]
     },
     "metadata": {},
     "output_type": "display_data"
    }
   ],
   "source": [
    "# HI! I'm a super helpful timer! good luck on your workout!\n",
    "# You can pause me whenever you need. \n",
    "# I'll notify you when each hour passes so you don't lose track of time!\n",
    "from utils import Timer, show\n",
    "timer = Timer();\n",
    "show(timer);"
   ]
  },
  {
   "cell_type": "markdown",
   "metadata": {},
   "source": [
    "<br>\n",
    "***"
   ]
  },
  {
   "cell_type": "markdown",
   "metadata": {},
   "source": [
    "## Workout Routine\n",
    "\n",
    "<br>\n",
    "\n",
    "<ol>\n",
    "    <li><a href=\"#section1\"><big>Introduction</big></a></li>\n",
    "    <br>\n",
    "    <li><a href=\"#section2\"><big>Data Collection (and minimal cleaning)</big></a> [bulk of your time here]</li>\n",
    "    <br>\n",
    "    <li><a href=\"#section3\"><big>Data Analysis</big></a></li>\n",
    "    <br>\n",
    "    <li><a href=\"#section4\"><big>Conclusion</big></a></li>\n",
    "    <br>\n",
    "    <li><a href=\"#section5\"><big>Resources</big></a> [a place for you to record useful links]</li>    \n",
    "</ol>\n",
    "\n",
    "<br>\n",
    "***"
   ]
  },
  {
   "cell_type": "markdown",
   "metadata": {},
   "source": [
    "<div align=\"right\">\n",
    "    <a href=\"#toc\">back to top</a>\n",
    "</div>\n",
    "<a id='section1'></a>\n",
    "\n",
    "## 1) Introduction\n",
    "\n",
    "Riot is the maker of a game called <a href=\"https://en.wikipedia.org/wiki/League_of_Legends\">League of Legends</a>. It is an extremely successful (financially and in terms of user base size) as of this writing (2018). The \"Gameplay\" section of the linked Wikipedia article should have all the information (and more) that you might need to get familiar with the rules of the game and what matters. \n",
    "\n",
    "This workout is only 1-star difficulty because Riot has a simple and easy to use API for getting match information from their database. There are also a couple of Python wrappers for their API that are easy to use.\n",
    "\n",
    "<br>\n",
    "\n",
    "### THE CHALLENGE:\n",
    "\n",
    "OK so what exactly do you need to do?\n",
    "\n",
    "**1) Get data from 10,000 different game matches.**\n",
    "\n",
    "**2) Once you have the data, make 1 interesting remark about the data.** You can define what \"interesting\" means but it should be at least slightly more involved than `print(\"Wow the data has {} rows!\".format(df.shape[0]))` This may require you to do some basic cleaning of the data.\n",
    "\n",
    "<br>\n",
    "\n",
    "**Useful tools for this workout :**\n",
    "\n",
    "Python wrappers for Riot's API:\n",
    "\n",
    "* <a href=\"https://github.com/meraki-analytics/cassiopeia\">Cassiopeia</a>\n",
    "\n",
    "* <a href=\"https://github.com/pseudonym117/Riot-Watcher\">Riot Watcher</a>\n",
    "\n",
    "Python data cleaning library:\n",
    "* Pandas\n",
    "\n",
    "\n",
    "You are not obligated to use any of the above libraries, but they may be useful.\n",
    "\n",
    "<br>\n",
    "***\n",
    "<br>"
   ]
  },
  {
   "cell_type": "markdown",
   "metadata": {},
   "source": [
    "<div align=\"right\">\n",
    "    <a href=\"#toc\">back to top</a>\n",
    "</div>\n",
    "<a id='section2'></a>\n",
    "\n",
    "## 2) Data Collection\n",
    "\n",
    "Time to get started! The bulk of your time should be spent in this section. \n",
    "\n",
    "By the end of this section you should have data on 10,000 unique League of Legends matches in a form that it is at least somewhat readable by human eyes. Because you'll likely use the Riot API, the data will already be in a nice clean format but it may be nice to put the data in something like a Pandas dataframe."
   ]
  },
  {
   "cell_type": "code",
   "execution_count": 4,
   "metadata": {
    "collapsed": true
   },
   "outputs": [],
   "source": [
    "# your code here"
   ]
  },
  {
   "cell_type": "markdown",
   "metadata": {},
   "source": [
    "<br>\n",
    "***\n",
    "<br>"
   ]
  },
  {
   "cell_type": "markdown",
   "metadata": {},
   "source": [
    "<div align=\"right\">\n",
    "    <a href=\"#toc\">back to top</a>\n",
    "</div>\n",
    "<a id='section3'></a>\n",
    "\n",
    "## 3) Data Analysis \n",
    "\n",
    "Now that you have your data in a somewhat readable shape, **make one semi-intelligent analytical remark about the data.** \n",
    "\n",
    "\n",
    "\n"
   ]
  },
  {
   "cell_type": "code",
   "execution_count": null,
   "metadata": {
    "collapsed": true
   },
   "outputs": [],
   "source": [
    "# your code here"
   ]
  },
  {
   "cell_type": "markdown",
   "metadata": {},
   "source": [
    "<br>\n",
    "***\n",
    "<br>"
   ]
  },
  {
   "cell_type": "markdown",
   "metadata": {},
   "source": [
    "<div align=\"right\">\n",
    "    <a href=\"#toc\">back to top</a>\n",
    "</div>\n",
    "<a id='section4'></a>\n",
    "\n",
    "## 4) Conclusion\n",
    "\n",
    "**Put a small sample of your data and the 1 interesting finding you have here.**\n",
    "\n",
    "Also remarks you'd like to make about the challenges you face, what you learned, what makes the problem or data interesting or not interesting. Just a little space to reflect on the workout. Consider looking through the resources you used below in reflecting on what you learned!"
   ]
  },
  {
   "cell_type": "markdown",
   "metadata": {},
   "source": []
  },
  {
   "cell_type": "markdown",
   "metadata": {},
   "source": [
    "<br>\n",
    "***\n",
    "<br>"
   ]
  },
  {
   "cell_type": "markdown",
   "metadata": {},
   "source": [
    "<div align=\"right\">\n",
    "    <a href=\"#toc\">back to top</a>\n",
    "</div>\n",
    "<a id='section5'></a>\n",
    "\n",
    "## 5) Resources\n",
    "\n",
    "This is where you can list links to anything you needed to google that you found very helpful such as StackOverflow answers or parts of a Python library's documentation. It's a good way to reflect on what really challenged you and what you learned in this workout."
   ]
  },
  {
   "cell_type": "markdown",
   "metadata": {},
   "source": [
    "EXAMPLE:\n",
    "\n",
    "1) <a href=\"https://docs.scipy.org/doc/numpy/reference/generated/numpy.random.rand.html\">How to make random numbers with numpy</a>\n",
    "\n",
    "\n",
    "\n",
    "<br>"
   ]
  },
  {
   "cell_type": "markdown",
   "metadata": {},
   "source": [
    "***\n",
    "<br>"
   ]
  },
  {
   "cell_type": "markdown",
   "metadata": {},
   "source": [
    "## That's it! You completed the workout!\n",
    "\n",
    "\n",
    "If you felt like you spent most of your time googling then this workout may have been a little too difficult for you right now. Try an easier workout next time! But also copy/pase the \"Resources\" section you built and save it somewhere so you can review or have easy access to that helpful info in the future!\n",
    "\n",
    "OR\n",
    "\n",
    "If you're proud of what you accomplished, put it in your own GitHub repo to show off to recruiters, friends, parents, and pets! If you do, please link to my repo in your README :D)"
   ]
  },
  {
   "cell_type": "code",
   "execution_count": null,
   "metadata": {
    "collapsed": true
   },
   "outputs": [],
   "source": []
  }
 ],
 "metadata": {
  "kernelspec": {
   "display_name": "Python 3",
   "language": "python",
   "name": "python3"
  },
  "language_info": {
   "codemirror_mode": {
    "name": "ipython",
    "version": 3
   },
   "file_extension": ".py",
   "mimetype": "text/x-python",
   "name": "python",
   "nbconvert_exporter": "python",
   "pygments_lexer": "ipython3",
   "version": "3.6.3"
  }
 },
 "nbformat": 4,
 "nbformat_minor": 2
}
