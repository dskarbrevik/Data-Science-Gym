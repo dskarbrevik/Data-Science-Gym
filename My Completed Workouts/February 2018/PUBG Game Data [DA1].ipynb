{
 "cells": [
  {
   "cell_type": "markdown",
   "metadata": {},
   "source": [
    "# Welcome to the Data Science Gym!\n",
    "\n",
    "Sharpen your data science skills by just *doing* data science.\n",
    "\n",
    "<br>\n",
    "\n",
    "### Workout Overview\n",
    "\n",
    "**ID:** <a href=\"https://github.com/dskarbrevik/Data-Science-Gym\">DSG2DA1</a>\n",
    "\n",
    "**Type:** Data Analysis\n",
    "\n",
    "**Main goal:** Come up with 2 (reasonably insightful) ways a player can improve performance in this game.\n",
    "\n",
    "**Data theme:** First/Third person shooter game data\n",
    "\n",
    "**Data types:** mostly numerical; some geographical; some text\n",
    "\n",
    "**Data size:** Medium (~20GB)\n",
    "\n",
    "**Special System requirements:** None \n",
    "\n",
    "**Difficulty:** &#11088;\n",
    "\n",
    "[Note: If this workout doesn't seem like a good fit for you at the moment, the <a href=\"https://github.com/dskarbrevik/Data-Science-Gym\">Data Science Gym</a> has other workouts that may be a better fit.]\n",
    "\n",
    "<br>\n",
    "***\n",
    "<br>\n",
    "\n",
    "### SIGN-IN TO THE GYM!\n",
    "\n",
    "**Username:** dskarbrevik\n",
    "\n",
    "**Date:** 2/25/2018\n",
    "\n",
    "**Last video game you played:** Overwatch\n",
    "\n",
    "<br>\n",
    "***\n",
    "<br>\n",
    "\n",
    "**BASIC GYM RULES (everything you need to know)**\n",
    "\n",
    "**1)** You have a maximum of **3 hours to complete a workout** in this gym.\n",
    "\n",
    "**2)** Start your timer immediately after reading these rules.\n",
    "\n",
    "**3)** You don't have to use all 3 hours, but you should spend **at least 1 full hour** in this gym or else your Data Science muscles might not get much bigger :(\n",
    "\n",
    "**4)** As long as you are the one typing into this notebook, you may use any resource you like (Python libraries, StackOverflow, phone a friend, etc.). \n",
    "\n",
    "**5)** If you copy any code directly from another source (e.g. StackOverflow) please put the link in the \"Resources\" section at the bottom of this notebook.\n",
    "\n",
    "<br>\n",
    "***\n",
    "<br>\n",
    "\n",
    "## READY?... OK, start your timer and get started!... and have fun!\n",
    "\n",
    "<br>\n",
    "***\n",
    "<br>"
   ]
  },
  {
   "cell_type": "markdown",
   "metadata": {},
   "source": [
    "<a id=\"toc\"></a>\n",
    "\n",
    "## Today's Workout Routine\n",
    "\n",
    "<br>\n",
    "\n",
    "<ol>\n",
    "    <li><a href=\"#section1\">Introduction</a> [just reading here]</li>\n",
    "    <br>\n",
    "    <li><a href=\"#section2\">Loading the Data</a> [just run the code]</li>\n",
    "    <br>\n",
    "    <li><a href=\"#section3\">Data Analysis</a> [bulk of your time and work spent here]</li>\n",
    "    <br>\n",
    "    <li><a href=\"#section4\">Conclusion</a> [present your 2 actionable insights here]</li>             \n",
    "</ol>"
   ]
  },
  {
   "cell_type": "markdown",
   "metadata": {},
   "source": [
    "## Introduction\n",
    "\n",
    "There are two folders of data, one called \"aggregate\" and another called \"deaths\". Each has 10gb of data split into 5 csv files."
   ]
  }
 ],
 "metadata": {
  "kernelspec": {
   "display_name": "Python 3",
   "language": "python",
   "name": "python3"
  },
  "language_info": {
   "codemirror_mode": {
    "name": "ipython",
    "version": 3
   },
   "file_extension": ".py",
   "mimetype": "text/x-python",
   "name": "python",
   "nbconvert_exporter": "python",
   "pygments_lexer": "ipython3",
   "version": "3.6.3"
  }
 },
 "nbformat": 4,
 "nbformat_minor": 2
}
