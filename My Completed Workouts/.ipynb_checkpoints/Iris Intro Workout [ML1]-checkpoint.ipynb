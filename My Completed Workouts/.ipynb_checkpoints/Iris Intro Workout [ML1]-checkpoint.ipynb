{
 "cells": [
  {
   "cell_type": "markdown",
   "metadata": {},
   "source": [
    "# Welcome to the Data Science Gym!\n",
    "\n",
    "Sharpen your data science skills by just *doing* data science.\n",
    "\n",
    "<br>\n",
    "\n",
    "### Workout Overview\n",
    "\n",
    "**ID:** <a href=\"https://github.com/dskarbrevik/Data-Science-Gym\">DSG1ML1</a>\n",
    "\n",
    "**Type:** Machine Learning\n",
    "\n",
    "**Main task:** Simple classification\n",
    "\n",
    "**Data theme:** Flower types\n",
    "\n",
    "**Data types:** Numerical\n",
    "\n",
    "**Data size:** Small (<1GB)\n",
    "\n",
    "**Special System requirements:** None \n",
    "\n",
    "**Difficulty:** &#11088;\n",
    "\n",
    "[Note: If this workout doesn't seem like a good fit for you at the moment, the <a href=\"https://github.com/dskarbrevik/Data-Science-Gym\">Data Science Gym</a> has other workouts that may be a better fit.]\n",
    "\n",
    "<br>\n",
    "***\n",
    "<br>\n",
    "\n",
    "### SIGN-IN TO THE GYM!\n",
    "\n",
    "**Username:** dskarbrevik\n",
    "\n",
    "**Date:** 2/25/2018\n",
    "\n",
    "**Favorite flower:** corpus flower... tulips are cool too I guess\n",
    "\n",
    "<br>\n",
    "***\n",
    "<br>\n",
    "\n",
    "**BASIC GYM RULES (everything you need to know)**\n",
    "\n",
    "**1)** You have a maximum of **3 hours to complete a workout** in this gym.\n",
    "\n",
    "**2)** Start your timer immediately after reading these rules.\n",
    "\n",
    "**3)** You don't have to use all 3 hours, but you should spend **at least 1 full hour** in this gym or else your Data Science muscles might not get much bigger :(\n",
    "\n",
    "**4)** As long as you are the one typing into this notebook, you may use any resource you like (Python libraries, StackOverflow, phone a friend, etc.). \n",
    "\n",
    "**5)** If you copy any code directly from another source (e.g. StackOverflow) please put the link in the \"Resources\" section at the bottom of this notebook.\n",
    "\n",
    "<br>\n",
    "***\n",
    "<br>\n",
    "\n",
    "## READY?... OK, start your timer and get started!... and have fun!\n",
    "\n",
    "<br>\n",
    "***\n",
    "<br>"
   ]
  },
  {
   "cell_type": "markdown",
   "metadata": {},
   "source": [
    "<a id=\"toc\"></a>\n",
    "\n",
    "## Today's Workout Routine\n",
    "\n",
    "<br>\n",
    "\n",
    "<ol>\n",
    "    <li><a href=\"#section1\">Introduction</a> [just reading here]</li>\n",
    "    <br>\n",
    "    <li><a href=\"#section2\">Loading the Data</a> [just run the code]</li>\n",
    "    <br>\n",
    "    <li><a href=\"#section3\">Exploratory Data Analysis</a> [optional]</li>\n",
    "    <br>\n",
    "    <li><a href=\"#section4\">Modeling</a> [most of your time should be spent here]</li> \n",
    "    <br>\n",
    "    <li><a href=\"#section5\">Conclusion</a> [try to leave at least 15-30 mins for this part]</li>             \n",
    "</ol>"
   ]
  },
  {
   "cell_type": "markdown",
   "metadata": {},
   "source": [
    "***"
   ]
  },
  {
   "cell_type": "markdown",
   "metadata": {},
   "source": [
    "<div align=\"right\">\n",
    "    <a href=\"#toc\">back to top</a>\n",
    "</div>\n",
    "<a id='section1'></a>\n",
    "\n",
    "## 1) Introduction\n",
    "\n",
    "This is a VERY small, 150 observations, dataset where each row corresponds to one of three types of flowers. There are only five features in each observation/row (flower type, sepal length, sepal width, pedal width, pedal length). It is one of the canonical \"Hello World\"s of machine learning. \n",
    "\n",
    "More info on dataset: <a href=\"https://en.wikipedia.org/wiki/Iris_flower_data_set\">Iris Dataset</a>\n",
    "\n",
    "\n",
    "### Main Goal:\n",
    "Your goal is to **build a model that can classify the three types of flowers in the dataset**. That's it!\n",
    "\n",
    "<br>\n",
    "***\n",
    "<br>"
   ]
  },
  {
   "cell_type": "markdown",
   "metadata": {},
   "source": [
    "<div align=\"right\">\n",
    "    <a href=\"#toc\">back to top</a>\n",
    "</div>\n",
    "<a id='section2'></a>\n",
    "\n",
    "## 2) Loading the Data"
   ]
  },
  {
   "cell_type": "code",
   "execution_count": 40,
   "metadata": {},
   "outputs": [],
   "source": [
    "from io import BytesIO\n",
    "import urllib.request\n",
    "\n",
    "# STEP 1) get the data from S3\n",
    "url = \"http://data-science-gym.s3.amazonaws.com/iris_data.csv\"\n",
    "response = urllib.request.urlopen(url)\n",
    "data_bytes = response.read()\n",
    "\n",
    "# STEP 2) make IO object\n",
    "data_io = BytesIO(data_bytes)\n",
    "\n",
    "# STEP 3) read into Pandas\n",
    "iris_df = pd.read_csv(data_io, sep=\",\")"
   ]
  },
  {
   "cell_type": "markdown",
   "metadata": {},
   "source": [
    "There you go, `iris_df` is now your Pandas Dataframe, ready to play with!\n",
    "\n",
    "<br>\n",
    "***\n",
    "<br>"
   ]
  },
  {
   "cell_type": "markdown",
   "metadata": {},
   "source": [
    "<div align=\"right\">\n",
    "    <a href=\"#toc\">back to top</a>\n",
    "</div>\n",
    "<a id='section3'></a>\n",
    "\n",
    "## 3) Exploratory Data Analysis\n",
    "\n",
    "By importing this dataset from the sklearn package we get the data in array form, however, to better explore the data it is generally useful to convert it to a Pandas dataframe. So let's do that."
   ]
  },
  {
   "cell_type": "code",
   "execution_count": 41,
   "metadata": {},
   "outputs": [
    {
     "data": {
      "text/html": [
       "<div>\n",
       "<style>\n",
       "    .dataframe thead tr:only-child th {\n",
       "        text-align: right;\n",
       "    }\n",
       "\n",
       "    .dataframe thead th {\n",
       "        text-align: left;\n",
       "    }\n",
       "\n",
       "    .dataframe tbody tr th {\n",
       "        vertical-align: top;\n",
       "    }\n",
       "</style>\n",
       "<table border=\"1\" class=\"dataframe\">\n",
       "  <thead>\n",
       "    <tr style=\"text-align: right;\">\n",
       "      <th></th>\n",
       "      <th>Flower Type</th>\n",
       "      <th>Sepal Length</th>\n",
       "      <th>Sepal Width</th>\n",
       "      <th>Petal Length</th>\n",
       "      <th>Petal Width</th>\n",
       "    </tr>\n",
       "  </thead>\n",
       "  <tbody>\n",
       "    <tr>\n",
       "      <th>0</th>\n",
       "      <td>setosa</td>\n",
       "      <td>5.1</td>\n",
       "      <td>3.5</td>\n",
       "      <td>1.4</td>\n",
       "      <td>0.2</td>\n",
       "    </tr>\n",
       "    <tr>\n",
       "      <th>1</th>\n",
       "      <td>setosa</td>\n",
       "      <td>4.9</td>\n",
       "      <td>3.0</td>\n",
       "      <td>1.4</td>\n",
       "      <td>0.2</td>\n",
       "    </tr>\n",
       "    <tr>\n",
       "      <th>2</th>\n",
       "      <td>setosa</td>\n",
       "      <td>4.7</td>\n",
       "      <td>3.2</td>\n",
       "      <td>1.3</td>\n",
       "      <td>0.2</td>\n",
       "    </tr>\n",
       "    <tr>\n",
       "      <th>3</th>\n",
       "      <td>setosa</td>\n",
       "      <td>4.6</td>\n",
       "      <td>3.1</td>\n",
       "      <td>1.5</td>\n",
       "      <td>0.2</td>\n",
       "    </tr>\n",
       "    <tr>\n",
       "      <th>4</th>\n",
       "      <td>setosa</td>\n",
       "      <td>5.0</td>\n",
       "      <td>3.6</td>\n",
       "      <td>1.4</td>\n",
       "      <td>0.2</td>\n",
       "    </tr>\n",
       "  </tbody>\n",
       "</table>\n",
       "</div>"
      ],
      "text/plain": [
       "  Flower Type  Sepal Length  Sepal Width  Petal Length  Petal Width\n",
       "0      setosa           5.1          3.5           1.4          0.2\n",
       "1      setosa           4.9          3.0           1.4          0.2\n",
       "2      setosa           4.7          3.2           1.3          0.2\n",
       "3      setosa           4.6          3.1           1.5          0.2\n",
       "4      setosa           5.0          3.6           1.4          0.2"
      ]
     },
     "execution_count": 41,
     "metadata": {},
     "output_type": "execute_result"
    }
   ],
   "source": [
    "iris_df.head()"
   ]
  },
  {
   "cell_type": "markdown",
   "metadata": {},
   "source": [
    "Now that we have our data in a dataframe, we see there are quick functions we can run on it to get some basic information. \n",
    "\n",
    "Note the first few lines are all \"setosa\", this is because the dataset is ordered. The first 50 rows are Setosa, the next 50 are versicolor, and the last 50 rows are virginica. It is important to appreciate this, because when we model the data to answer some question, we want to train the model on a random subset of our data (not just give it the first 100 rows and find it can only classify 2 of the 3 types of flowers we have). \n",
    "\n",
    "Also, we can note from the basic statistics of the features that the petal length seems to have a particularly high standard deviation and thus may be the most valuable feature in differentiating one or more types of flowers (just a hunch, not a for sure).\n",
    "\n",
    "<br>\n",
    "***\n",
    "<br>"
   ]
  },
  {
   "cell_type": "markdown",
   "metadata": {},
   "source": [
    "<div align=\"right\">\n",
    "    <a href=\"#toc\">back to top</a>\n",
    "</div>\n",
    "<a id='section4'></a>\n",
    "\n",
    "## 4. Modeling\n",
    "\n",
    "Some possible modeling techniques for a discrete classification problem like this:\n",
    "* logistic regression\n",
    "* Naive Bayes\n",
    "* K-NN\n",
    "* Decision Tree\n",
    "\n",
    "But first let's split our data into a training and testing groups so we can evaluate our models later..."
   ]
  },
  {
   "cell_type": "markdown",
   "metadata": {},
   "source": [
    "#### Data split"
   ]
  },
  {
   "cell_type": "code",
   "execution_count": 12,
   "metadata": {
    "collapsed": true
   },
   "outputs": [],
   "source": [
    "# prepping our data to train models\n",
    "from sklearn.model_selection import train_test_split\n",
    "\n",
    "data = iris.data[:,:]\n",
    "labels = flower_type\n",
    "train_data, test_data, train_labels, test_labels = train_test_split(data, labels, test_size=.20, random_state=25)"
   ]
  },
  {
   "cell_type": "markdown",
   "metadata": {},
   "source": [
    "#### k-NN model"
   ]
  },
  {
   "cell_type": "code",
   "execution_count": 19,
   "metadata": {},
   "outputs": [
    {
     "name": "stdout",
     "output_type": "stream",
     "text": [
      "Accuracy of k-NN with k = 3 : 93.33%\n"
     ]
    }
   ],
   "source": [
    "# training a k-NN classifier and evaluating it\n",
    "\n",
    "from sklearn.neighbors import KNeighborsClassifier\n",
    "from sklearn.metrics import accuracy_score\n",
    "\n",
    "n_neighbors = 3\n",
    "\n",
    "knn = KNeighborsClassifier(n_neighbors)\n",
    "knn = knn.fit(train_data, train_labels)\n",
    "preds = knn.predict(test_data)\n",
    "\n",
    "accuracy = accuracy_score(test_labels, preds)\n",
    "print(\"Accuracy of k-NN with k = {} : {:.2f}%\".format(n_neighbors, (accuracy*100)))"
   ]
  },
  {
   "cell_type": "markdown",
   "metadata": {},
   "source": [
    "#### Decision Tree"
   ]
  },
  {
   "cell_type": "code",
   "execution_count": 15,
   "metadata": {},
   "outputs": [
    {
     "name": "stdout",
     "output_type": "stream",
     "text": [
      "Accuracy of decision tree: 90.00%\n"
     ]
    }
   ],
   "source": [
    "from sklearn import tree\n",
    "tree = tree.DecisionTreeClassifier()\n",
    "tree = tree.fit(iris.data, iris.target)\n",
    "accuracy = accuracy_score(test_labels, preds)\n",
    "print(\"Accuracy of decision tree: {:.2f}%\".format((accuracy*100)))"
   ]
  },
  {
   "cell_type": "markdown",
   "metadata": {},
   "source": [
    "#### Random Forest"
   ]
  },
  {
   "cell_type": "code",
   "execution_count": null,
   "metadata": {
    "collapsed": true
   },
   "outputs": [],
   "source": [
    "from sklearn.ensemble import RandomForestClassifier\n",
    "forest = RandomForestClassifier()\n"
   ]
  },
  {
   "cell_type": "markdown",
   "metadata": {},
   "source": [
    "<br>\n",
    "***\n",
    "<br>"
   ]
  },
  {
   "cell_type": "markdown",
   "metadata": {},
   "source": [
    "<div align=\"right\">\n",
    "    <a href=\"#toc\">back to top</a>\n",
    "</div>\n",
    "<a id='section5'></a>\n",
    "\n",
    "\n",
    "## 5. Conclusion"
   ]
  },
  {
   "cell_type": "markdown",
   "metadata": {},
   "source": [
    "This dataset has almost no data and what data it has is extremeley specific. There aren't many interesting questions or great impact we can make with this data but we can at least see that being able to predict flower type is trivially easy, which is why it is the hello world of machine learning. Moving on!"
   ]
  }
 ],
 "metadata": {
  "anaconda-cloud": {},
  "kernelspec": {
   "display_name": "Python 3",
   "language": "python",
   "name": "python3"
  },
  "language_info": {
   "codemirror_mode": {
    "name": "ipython",
    "version": 3
   },
   "file_extension": ".py",
   "mimetype": "text/x-python",
   "name": "python",
   "nbconvert_exporter": "python",
   "pygments_lexer": "ipython3",
   "version": "3.6.3"
  }
 },
 "nbformat": 4,
 "nbformat_minor": 2
}
