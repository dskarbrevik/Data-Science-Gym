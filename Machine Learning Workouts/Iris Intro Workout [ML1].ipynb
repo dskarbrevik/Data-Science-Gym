{
 "cells": [
  {
   "cell_type": "markdown",
   "metadata": {},
   "source": [
    "# Welcome to the Data Science Gym!\n",
    "\n",
    "Sharpen your data science skills by just *doing* data science.\n",
    "\n",
    "<br>\n",
    "\n",
    "### Workout Overview\n",
    "\n",
    "**ID:** <a href=\"https://github.com/dskarbrevik/Data-Science-Gym\">DSG1ML1</a>\n",
    "\n",
    "**Type:** Machine Learning\n",
    "\n",
    "**Main task:** Simple classification\n",
    "\n",
    "**Data theme:** Flower types\n",
    "\n",
    "**Data types:** Numerical\n",
    "\n",
    "**Data size:** Small (<1GB)\n",
    "\n",
    "**Special System requirements:** None \n",
    "\n",
    "**Difficulty:** &#11088;\n",
    "\n",
    "[Note: If this workout doesn't seem like a good fit for you at the moment, the <a href=\"https://github.com/dskarbrevik/Data-Science-Gym\">Data Science Gym</a> has other workouts that may be a better fit.]\n",
    "\n",
    "<br>\n",
    "***\n",
    "<br>\n",
    "\n",
    "### SIGN-IN TO THE GYM!\n",
    "\n",
    "**Username:**\n",
    "\n",
    "**Date:**\n",
    "\n",
    "**Favorite flower:**\n",
    "\n",
    "<br>\n",
    "***\n",
    "<br>\n",
    "\n",
    "**BASIC GYM RULES (everything you need to know)**\n",
    "\n",
    "**1)** You have a maximum of **3 hours to complete a workout** in this gym.\n",
    "\n",
    "**2)** Start your timer immediately after reading these rules.\n",
    "\n",
    "**3)** You don't have to use all 3 hours, but you should spend **at least 1 full hour** in this gym or else your Data Science muscles might not get much bigger :(\n",
    "\n",
    "**4)** As long as you are the one typing into this notebook, you may use any resource you like (Python libraries, StackOverflow, phone a friend, etc.). \n",
    "\n",
    "**5)** If you copy any code directly from another source (e.g. StackOverflow) please put the link in the \"Resources\" section at the bottom of this notebook.\n",
    "\n",
    "<br>\n",
    "***\n",
    "<br>\n",
    "\n",
    "## READY?... OK, start your timer and get started!... and have fun!\n",
    "\n",
    "<br>\n",
    "***\n",
    "<br>"
   ]
  },
  {
   "cell_type": "markdown",
   "metadata": {},
   "source": [
    "<a id=\"toc\"></a>\n",
    "\n",
    "## Today's Workout Routine\n",
    "\n",
    "<br>\n",
    "\n",
    "<ol>\n",
    "    <li><a href=\"#section1\">Introduction</a> [just reading here]</li>\n",
    "    <br>\n",
    "    <li><a href=\"#section2\">Loading the Data</a> [just run the code]</li>\n",
    "    <br>\n",
    "    <li><a href=\"#section3\">Exploratory Data Analysis</a> [optional]</li>\n",
    "    <br>\n",
    "    <li><a href=\"#section4\">Modeling</a> [most of your time should be spent here]</li> \n",
    "    <br>\n",
    "    <li><a href=\"#section5\">Conclusion</a> [try to leave at least 15-30 mins for this part]</li>             \n",
    "</ol>"
   ]
  },
  {
   "cell_type": "markdown",
   "metadata": {},
   "source": [
    "***"
   ]
  },
  {
   "cell_type": "markdown",
   "metadata": {},
   "source": [
    "<div align=\"right\">\n",
    "    <a href=\"#toc\">back to top</a>\n",
    "</div>\n",
    "<a id='section1'></a>\n",
    "\n",
    "## 1) Introduction\n",
    "\n",
    "This is a VERY small, 150 observations, dataset where each row corresponds to one of three types of flowers. There are only five features in each observation/row (flower type, sepal length, sepal width, pedal width, pedal length). It is one of the canonical \"Hello World\"s of machine learning. \n",
    "\n",
    "More info on dataset: <a href=\"https://en.wikipedia.org/wiki/Iris_flower_data_set\">Iris Dataset</a>\n",
    "\n",
    "\n",
    "### Main Goal:\n",
    "Your goal is to **build a model that can classify the three types of flowers in the dataset**. That's it!\n",
    "\n",
    "<br>\n",
    "***\n",
    "<br>"
   ]
  },
  {
   "cell_type": "markdown",
   "metadata": {},
   "source": [
    "<div align=\"right\">\n",
    "    <a href=\"#toc\">back to top</a>\n",
    "</div>\n",
    "<a id='section2'></a>\n",
    "\n",
    "## 2) Loading the Data"
   ]
  },
  {
   "cell_type": "code",
   "execution_count": 40,
   "metadata": {
    "collapsed": true
   },
   "outputs": [],
   "source": [
    "from io import BytesIO\n",
    "import urllib.request\n",
    "\n",
    "# STEP 1) get the data from S3\n",
    "url = \"http://data-science-gym.s3.amazonaws.com/iris_data.csv\"\n",
    "response = urllib.request.urlopen(url)\n",
    "data_bytes = response.read()\n",
    "\n",
    "# STEP 2) make IO object\n",
    "data_io = BytesIO(data_bytes)\n",
    "\n",
    "# STEP 3) read into Pandas\n",
    "iris_df = pd.read_csv(data_io, sep=\",\")"
   ]
  },
  {
   "cell_type": "markdown",
   "metadata": {},
   "source": [
    "There you go, `iris_df` is now your Pandas Dataframe, ready to play with!\n",
    "\n",
    "<br>\n",
    "***\n",
    "<br>"
   ]
  },
  {
   "cell_type": "markdown",
   "metadata": {},
   "source": [
    "<div align=\"right\">\n",
    "    <a href=\"#toc\">back to top</a>\n",
    "</div>\n",
    "<a id='section3'></a>\n",
    "\n",
    "## 3) Exploratory Data Analysis"
   ]
  },
  {
   "cell_type": "code",
   "execution_count": null,
   "metadata": {
    "collapsed": true
   },
   "outputs": [],
   "source": []
  },
  {
   "cell_type": "code",
   "execution_count": null,
   "metadata": {
    "collapsed": true
   },
   "outputs": [],
   "source": []
  },
  {
   "cell_type": "code",
   "execution_count": null,
   "metadata": {
    "collapsed": true
   },
   "outputs": [],
   "source": []
  },
  {
   "cell_type": "code",
   "execution_count": null,
   "metadata": {
    "collapsed": true
   },
   "outputs": [],
   "source": []
  },
  {
   "cell_type": "code",
   "execution_count": null,
   "metadata": {
    "collapsed": true
   },
   "outputs": [],
   "source": []
  },
  {
   "cell_type": "markdown",
   "metadata": {},
   "source": [
    "<br>\n",
    "***\n",
    "<br>"
   ]
  },
  {
   "cell_type": "markdown",
   "metadata": {},
   "source": [
    "<div align=\"right\">\n",
    "    <a href=\"#toc\">back to top</a>\n",
    "</div>\n",
    "<a id='section4'></a>\n",
    "\n",
    "## 4) Modeling"
   ]
  },
  {
   "cell_type": "code",
   "execution_count": null,
   "metadata": {
    "collapsed": true
   },
   "outputs": [],
   "source": []
  },
  {
   "cell_type": "code",
   "execution_count": null,
   "metadata": {
    "collapsed": true
   },
   "outputs": [],
   "source": []
  },
  {
   "cell_type": "code",
   "execution_count": null,
   "metadata": {
    "collapsed": true
   },
   "outputs": [],
   "source": []
  },
  {
   "cell_type": "code",
   "execution_count": null,
   "metadata": {
    "collapsed": true
   },
   "outputs": [],
   "source": []
  },
  {
   "cell_type": "code",
   "execution_count": null,
   "metadata": {
    "collapsed": true
   },
   "outputs": [],
   "source": []
  },
  {
   "cell_type": "markdown",
   "metadata": {},
   "source": [
    "<br>\n",
    "***\n",
    "<br>"
   ]
  },
  {
   "cell_type": "markdown",
   "metadata": {},
   "source": [
    "<div align=\"right\">\n",
    "    <a href=\"#toc\">back to top</a>\n",
    "</div>\n",
    "<a id='section5'></a>\n",
    "\n",
    "\n",
    "## 5. Conclusion"
   ]
  },
  {
   "cell_type": "code",
   "execution_count": null,
   "metadata": {
    "collapsed": true
   },
   "outputs": [],
   "source": []
  },
  {
   "cell_type": "markdown",
   "metadata": {},
   "source": []
  },
  {
   "cell_type": "markdown",
   "metadata": {},
   "source": [
    "<br>\n",
    "***\n",
    "<br>"
   ]
  },
  {
   "cell_type": "markdown",
   "metadata": {},
   "source": [
    "You're done! Congratulations!"
   ]
  }
 ],
 "metadata": {
  "anaconda-cloud": {},
  "kernelspec": {
   "display_name": "Python 3",
   "language": "python",
   "name": "python3"
  },
  "language_info": {
   "codemirror_mode": {
    "name": "ipython",
    "version": 3
   },
   "file_extension": ".py",
   "mimetype": "text/x-python",
   "name": "python",
   "nbconvert_exporter": "python",
   "pygments_lexer": "ipython3",
   "version": "3.6.3"
  }
 },
 "nbformat": 4,
 "nbformat_minor": 2
}
